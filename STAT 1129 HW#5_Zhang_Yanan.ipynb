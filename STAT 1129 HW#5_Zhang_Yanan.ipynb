{
 "cells": [
  {
   "cell_type": "code",
   "execution_count": 12,
   "metadata": {},
   "outputs": [
    {
     "name": "stdout",
     "output_type": "stream",
     "text": [
      "5:30\n"
     ]
    }
   ],
   "source": [
    "#1 (a) The code should print out 5:30\n",
    "class Clock():\n",
    "\n",
    "    def __init__(self, time):\n",
    "        self.time = time\n",
    "\n",
    "    def print_time(self):\n",
    "        time = '6:30'\n",
    "        print(self.time)\n",
    "\n",
    "clock = Clock('5:30')\n",
    "clock.print_time()"
   ]
  },
  {
   "cell_type": "code",
   "execution_count": null,
   "metadata": {},
   "outputs": [],
   "source": [
    "#(b) Because __init__ will use the time and self attributes to initialize the class. Then, \n",
    "print_time function is created that references and sets the object attribute self.time,\n",
    "by shortening 'time', followed by a statement that prints out the object attribute\n",
    "value. Then, when the object 'clock' is created with the class and a time value of\n",
    "5:30, it gains the ability to use the methods of the class, and so when the\n",
    "function print_time() is applied, the value of self.time'5:30'is printed."
   ]
  },
  {
   "cell_type": "code",
   "execution_count": 1,
   "metadata": {},
   "outputs": [
    {
     "name": "stdout",
     "output_type": "stream",
     "text": [
      "10:30\n"
     ]
    }
   ],
   "source": [
    "#2 (a) The code should print out 10:30\n",
    "class Clock():\n",
    "    def __init__(self, time):\n",
    "        self.time = time\n",
    "    def print_time(self, time):\n",
    "        print (time)\n",
    "clock = Clock('5:30')\n",
    "clock.print_time('10:30')"
   ]
  },
  {
   "cell_type": "code",
   "execution_count": null,
   "metadata": {},
   "outputs": [],
   "source": [
    "#(b) It tells me that giving parameters the same name as object attributes can be confusing, so each of them should have different names."
   ]
  },
  {
   "cell_type": "code",
   "execution_count": 2,
   "metadata": {},
   "outputs": [
    {
     "name": "stdout",
     "output_type": "stream",
     "text": [
      "10:30\n"
     ]
    }
   ],
   "source": [
    "#3 (a) The code should print out 10:30\n",
    "class Clock():\n",
    "    def __init__(self, time):\n",
    "        self.time = time\n",
    "    def print_time(self):\n",
    "        print (self.time)\n",
    "boston_clock = Clock('5:30')\n",
    "paris_clock = boston_clock\n",
    "paris_clock.time = ('10:30')\n",
    "boston_clock.print_time()"
   ]
  },
  {
   "cell_type": "code",
   "execution_count": null,
   "metadata": {},
   "outputs": [],
   "source": [
    "# (b) Boston_clock and paris_clock are not different object because paris and boston clock are two names referrencing the same object. Paris_clock is a byname for boston_clock, thus 10:30 should be print out. "
   ]
  },
  {
   "cell_type": "code",
   "execution_count": 3,
   "metadata": {},
   "outputs": [
    {
     "name": "stdout",
     "output_type": "stream",
     "text": [
      "\n",
      "5 6 7 \n",
      "list:  5 6 7 \n",
      "5 \n",
      "list:  6 7 \n",
      "6 7 \n",
      "Queue is empty\n"
     ]
    }
   ],
   "source": [
    "#4\n",
    "class Queue():\n",
    "    def __init__(self):\n",
    "        print()\n",
    "        self.queue = []\n",
    "        \n",
    "    def insert(self,num):\n",
    "        self.queue.append(num)\n",
    "        print(num,end=\" \")\n",
    "        \n",
    "    def remove(self):\n",
    "        if self.is_empty()==True:\n",
    "            print(\"Queue is empty\")\n",
    "            return\n",
    "        else:\n",
    "            num = self.queue[0]\n",
    "            print(num,end=\" \")\n",
    "            self.queue.pop(0)\n",
    "                  \n",
    "    def is_empty(self):\n",
    "        if len(self.queue)==0:\n",
    "            return True\n",
    "        else:\n",
    "            return False\n",
    "            \n",
    "    def length(self):\n",
    "        return len(self.queue)\n",
    "    \n",
    "    def result(self):\n",
    "        if self.is_empty()==True:\n",
    "            print(\"Queue is empty\")\n",
    "            return\n",
    "        else:\n",
    "            print(\"list: \",end=\" \")\n",
    "            for i in range(0,self.length()):\n",
    "                print(self.queue[i],end=\" \")\n",
    "            print(\"\")\n",
    "            \n",
    "            \n",
    "def main():\n",
    "    queue = Queue()\n",
    "    \n",
    "    queue.insert(5)\n",
    "    queue.insert(6)\n",
    "    queue.insert(7)\n",
    "    print()\n",
    "    queue.result()\n",
    "\n",
    "    queue.remove()\n",
    "    print()\n",
    "    queue.result()\n",
    "    queue.remove()\n",
    "    queue.remove()\n",
    "    print()\n",
    "    queue.result()\n",
    "\n",
    "   \n",
    "if __name__ == \"__main__\":\n",
    "    main()"
   ]
  },
  {
   "cell_type": "code",
   "execution_count": null,
   "metadata": {},
   "outputs": [],
   "source": []
  }
 ],
 "metadata": {
  "kernelspec": {
   "display_name": "Python 3",
   "language": "python",
   "name": "python3"
  },
  "language_info": {
   "codemirror_mode": {
    "name": "ipython",
    "version": 3
   },
   "file_extension": ".py",
   "mimetype": "text/x-python",
   "name": "python",
   "nbconvert_exporter": "python",
   "pygments_lexer": "ipython3",
   "version": "3.8.5"
  }
 },
 "nbformat": 4,
 "nbformat_minor": 4
}
