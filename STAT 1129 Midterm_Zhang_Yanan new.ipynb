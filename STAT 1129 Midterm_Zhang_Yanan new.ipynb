{
 "cells": [
  {
   "cell_type": "code",
   "execution_count": 1,
   "metadata": {},
   "outputs": [
    {
     "name": "stdout",
     "output_type": "stream",
     "text": [
      "0:2\n",
      "1:3\n",
      "2:4\n",
      "3:5\n",
      "4:5\n",
      "5:2\n",
      "6:6\n",
      "7:4\n",
      "8:3\n",
      "9:5\n",
      "10:3\n"
     ]
    }
   ],
   "source": [
    "numbers=[2,4,6,8,4,5,2,1,9,0,4,6,7,4,3,2,1,9,10,3,7,9,6,0,1,3,5,6,7,8,9,10,2,3,6,8,9,10,6,7,4,3]\n",
    "numbers.sort()\n",
    "numbers\n",
    "\n",
    "for item in range(0,11):\n",
    "    print(f'{item}:{numbers.count(item)}')"
   ]
  },
  {
   "cell_type": "code",
   "execution_count": 2,
   "metadata": {},
   "outputs": [
    {
     "data": {
      "image/png": "[encoded data removed]",
      "text/plain": [
       "<Figure size 432x288 with 1 Axes>"
      ]
     },
     "metadata": {
      "needs_background": "light"
     },
     "output_type": "display_data"
    }
   ],
   "source": [
    "import matplotlib.pyplot as plt \n",
    "import numpy as np\n",
    "\n",
    "x= np.array([\"0\",\"1\",\"2\",\"3\",\"4\",\"5\",\"6\",\"7\",\"8\",\"9\",\"10\"])\n",
    "y= np.array([2,3,4,5,5,2,6,4,3,5,3])\n",
    "\n",
    "plt.bar(x,y)\n",
    "plt.xlabel(\"numbers\")\n",
    "plt.ylabel(\"frequency\")\n",
    "plt.show()"
   ]
  },
  {
   "cell_type": "code",
   "execution_count": 3,
   "metadata": {},
   "outputs": [
    {
     "name": "stdout",
     "output_type": "stream",
     "text": [
      "{\"0\": 2, \"1\": 3, \"2\": 4, \"3\": 5, \"4\": 5, \"5\": 2, \"6\": 6, \"7\": 4, \"8\": 3, \"9\": 5, \"10\": 3}\n"
     ]
    }
   ],
   "source": [
    "import json\n",
    "x={\n",
    "  0:2,\n",
    "  1:3,\n",
    "  2:4,\n",
    "  3:5,\n",
    "  4:5,\n",
    "  5:2,\n",
    "  6:6,\n",
    "  7:4,\n",
    "  8:3,\n",
    "  9:5,\n",
    "  10:3\n",
    "}\n",
    "y=json.dumps(x)\n",
    "print(y)"
   ]
  },
  {
   "cell_type": "code",
   "execution_count": 4,
   "metadata": {},
   "outputs": [
    {
     "name": "stdout",
     "output_type": "stream",
     "text": [
      "  Order Date             Order ID  \\\n",
      "0   01/13/20  113-9545573-8223416   \n",
      "1   01/13/20  113-9545573-8223416   \n",
      "2   01/13/20  113-8575398-2184263   \n",
      "3   01/15/20  113-8013352-3793808   \n",
      "4   01/23/20  113-4949269-1336259   \n",
      "\n",
      "                                               Title            Category  \\\n",
      "0  Passionate Journey: A Vision in Woodcuts (Dove...           ABIS_BOOK   \n",
      "1  Ways of Seeing: Based on the BBC Television Se...           ABIS_BOOK   \n",
      "2  Gardner's Art through the Ages: A Global Histo...           ABIS_BOOK   \n",
      "3                                         Statistics           ABIS_BOOK   \n",
      "4  LEGO Creator Expert Carousel 10257 Building Ki...  TOY_BUILDING_BLOCK   \n",
      "\n",
      "    ASIN/ISBN  UNSPSC Code     Website         Release Date      Condition  \\\n",
      "0   486460185   55101500.0  Amazon.com  2007-12-10T00:00:01            new   \n",
      "1   140135154   55101500.0  Amazon.com  1990-12-01T00:00:01            new   \n",
      "2  1337696609   55101500.0  Amazon.com  2018-10-17T00:00:01  used verygood   \n",
      "3   134080211   55101500.0  Amazon.com  2016-01-03T00:00:01      used good   \n",
      "4  B071NT3DST   60140000.0  Amazon.com                  NaN            new   \n",
      "\n",
      "                   Seller  ...  Carrier Name & Tracking Number Item Subtotal  \\\n",
      "0              Amazon.com  ...         UPS(1Z445AY30312112350)        $9.76    \n",
      "1              Amazon.com  ...         UPS(1Z8110XY0321238300)        $6.67    \n",
      "2  Cengage Learning, Inc.  ...    USPS(9341989721009200872609)       $39.34    \n",
      "3              apex_media  ...         UPS(1Z09212X1354984212)       $29.70    \n",
      "4             脗mazin Sale  ...    USPS(9361289721009207637305)      $337.99    \n",
      "\n",
      "  Item Subtotal Tax  Item Total Tax Exemption Applied  Tax Exemption Type  \\\n",
      "0            $0.59      $10.35                    NaN                 NaN   \n",
      "1            $0.40       $7.07                    NaN                 NaN   \n",
      "2            $2.36      $41.70                  False                 NaN   \n",
      "3            $1.78      $31.48                  False                 NaN   \n",
      "4           $20.28     $358.27                    NaN                 NaN   \n",
      "\n",
      "   Exemption Opt-Out   Buyer Name Currency Group Name  \n",
      "0                NaN  YANAN Zhang      USD        NaN  \n",
      "1                NaN  YANAN Zhang      USD        NaN  \n",
      "2              False  YANAN Zhang      USD        NaN  \n",
      "3              False  YANAN Zhang      USD        NaN  \n",
      "4                NaN  YANAN Zhang      USD        NaN  \n",
      "\n",
      "[5 rows x 36 columns]\n"
     ]
    }
   ],
   "source": [
    "import pandas as pd\n",
    "\n",
    "df=pd.read_csv('amazon-orders.csv')\n",
    "print(df.head())"
   ]
  },
  {
   "cell_type": "code",
   "execution_count": 5,
   "metadata": {},
   "outputs": [
    {
     "data": {
      "text/html": [
       "<div>\n",
       "<style scoped>\n",
       "    .dataframe tbody tr th:only-of-type {\n",
       "        vertical-align: middle;\n",
       "    }\n",
       "\n",
       "    .dataframe tbody tr th {\n",
       "        vertical-align: top;\n",
       "    }\n",
       "\n",
       "    .dataframe thead th {\n",
       "        text-align: right;\n",
       "    }\n",
       "</style>\n",
       "<table border=\"1\" class=\"dataframe\">\n",
       "  <thead>\n",
       "    <tr style=\"text-align: right;\">\n",
       "      <th></th>\n",
       "      <th>Order Date</th>\n",
       "      <th>Order ID</th>\n",
       "      <th>Title</th>\n",
       "      <th>Category</th>\n",
       "      <th>ASIN/ISBN</th>\n",
       "      <th>UNSPSC Code</th>\n",
       "      <th>Website</th>\n",
       "      <th>Release Date</th>\n",
       "      <th>Condition</th>\n",
       "      <th>Seller</th>\n",
       "      <th>...</th>\n",
       "      <th>Carrier Name &amp; Tracking Number</th>\n",
       "      <th>Item Subtotal</th>\n",
       "      <th>Item Subtotal Tax</th>\n",
       "      <th>Item Total</th>\n",
       "      <th>Tax Exemption Applied</th>\n",
       "      <th>Tax Exemption Type</th>\n",
       "      <th>Exemption Opt-Out</th>\n",
       "      <th>Buyer Name</th>\n",
       "      <th>Currency</th>\n",
       "      <th>Group Name</th>\n",
       "    </tr>\n",
       "  </thead>\n",
       "  <tbody>\n",
       "    <tr>\n",
       "      <th>0</th>\n",
       "      <td>01/13/20</td>\n",
       "      <td>113-9545573-8223416</td>\n",
       "      <td>Passionate Journey: A Vision in Woodcuts (Dove...</td>\n",
       "      <td>ABIS_BOOK</td>\n",
       "      <td>486460185</td>\n",
       "      <td>55101500.0</td>\n",
       "      <td>Amazon.com</td>\n",
       "      <td>2007-12-10T00:00:01</td>\n",
       "      <td>new</td>\n",
       "      <td>Amazon.com</td>\n",
       "      <td>...</td>\n",
       "      <td>UPS(1Z445AY30312112350)</td>\n",
       "      <td>$9.76</td>\n",
       "      <td>$0.59</td>\n",
       "      <td>10.35</td>\n",
       "      <td>NaN</td>\n",
       "      <td>NaN</td>\n",
       "      <td>NaN</td>\n",
       "      <td>YANAN Zhang</td>\n",
       "      <td>USD</td>\n",
       "      <td>NaN</td>\n",
       "    </tr>\n",
       "    <tr>\n",
       "      <th>1</th>\n",
       "      <td>01/13/20</td>\n",
       "      <td>113-9545573-8223416</td>\n",
       "      <td>Ways of Seeing: Based on the BBC Television Se...</td>\n",
       "      <td>ABIS_BOOK</td>\n",
       "      <td>140135154</td>\n",
       "      <td>55101500.0</td>\n",
       "      <td>Amazon.com</td>\n",
       "      <td>1990-12-01T00:00:01</td>\n",
       "      <td>new</td>\n",
       "      <td>Amazon.com</td>\n",
       "      <td>...</td>\n",
       "      <td>UPS(1Z8110XY0321238300)</td>\n",
       "      <td>$6.67</td>\n",
       "      <td>$0.40</td>\n",
       "      <td>7.07</td>\n",
       "      <td>NaN</td>\n",
       "      <td>NaN</td>\n",
       "      <td>NaN</td>\n",
       "      <td>YANAN Zhang</td>\n",
       "      <td>USD</td>\n",
       "      <td>NaN</td>\n",
       "    </tr>\n",
       "    <tr>\n",
       "      <th>2</th>\n",
       "      <td>01/13/20</td>\n",
       "      <td>113-8575398-2184263</td>\n",
       "      <td>Gardner's Art through the Ages: A Global Histo...</td>\n",
       "      <td>ABIS_BOOK</td>\n",
       "      <td>1337696609</td>\n",
       "      <td>55101500.0</td>\n",
       "      <td>Amazon.com</td>\n",
       "      <td>2018-10-17T00:00:01</td>\n",
       "      <td>used verygood</td>\n",
       "      <td>Cengage Learning, Inc.</td>\n",
       "      <td>...</td>\n",
       "      <td>USPS(9341989721009200872609)</td>\n",
       "      <td>$39.34</td>\n",
       "      <td>$2.36</td>\n",
       "      <td>41.70</td>\n",
       "      <td>False</td>\n",
       "      <td>NaN</td>\n",
       "      <td>False</td>\n",
       "      <td>YANAN Zhang</td>\n",
       "      <td>USD</td>\n",
       "      <td>NaN</td>\n",
       "    </tr>\n",
       "    <tr>\n",
       "      <th>3</th>\n",
       "      <td>01/15/20</td>\n",
       "      <td>113-8013352-3793808</td>\n",
       "      <td>Statistics</td>\n",
       "      <td>ABIS_BOOK</td>\n",
       "      <td>134080211</td>\n",
       "      <td>55101500.0</td>\n",
       "      <td>Amazon.com</td>\n",
       "      <td>2016-01-03T00:00:01</td>\n",
       "      <td>used good</td>\n",
       "      <td>apex_media</td>\n",
       "      <td>...</td>\n",
       "      <td>UPS(1Z09212X1354984212)</td>\n",
       "      <td>$29.70</td>\n",
       "      <td>$1.78</td>\n",
       "      <td>31.48</td>\n",
       "      <td>False</td>\n",
       "      <td>NaN</td>\n",
       "      <td>False</td>\n",
       "      <td>YANAN Zhang</td>\n",
       "      <td>USD</td>\n",
       "      <td>NaN</td>\n",
       "    </tr>\n",
       "    <tr>\n",
       "      <th>4</th>\n",
       "      <td>01/23/20</td>\n",
       "      <td>113-4949269-1336259</td>\n",
       "      <td>LEGO Creator Expert Carousel 10257 Building Ki...</td>\n",
       "      <td>TOY_BUILDING_BLOCK</td>\n",
       "      <td>B071NT3DST</td>\n",
       "      <td>60140000.0</td>\n",
       "      <td>Amazon.com</td>\n",
       "      <td>NaN</td>\n",
       "      <td>new</td>\n",
       "      <td>脗mazin Sale</td>\n",
       "      <td>...</td>\n",
       "      <td>USPS(9361289721009207637305)</td>\n",
       "      <td>$337.99</td>\n",
       "      <td>$20.28</td>\n",
       "      <td>358.27</td>\n",
       "      <td>NaN</td>\n",
       "      <td>NaN</td>\n",
       "      <td>NaN</td>\n",
       "      <td>YANAN Zhang</td>\n",
       "      <td>USD</td>\n",
       "      <td>NaN</td>\n",
       "    </tr>\n",
       "  </tbody>\n",
       "</table>\n",
       "<p>5 rows × 36 columns</p>\n",
       "</div>"
      ],
      "text/plain": [
       "  Order Date             Order ID  \\\n",
       "0   01/13/20  113-9545573-8223416   \n",
       "1   01/13/20  113-9545573-8223416   \n",
       "2   01/13/20  113-8575398-2184263   \n",
       "3   01/15/20  113-8013352-3793808   \n",
       "4   01/23/20  113-4949269-1336259   \n",
       "\n",
       "                                               Title            Category  \\\n",
       "0  Passionate Journey: A Vision in Woodcuts (Dove...           ABIS_BOOK   \n",
       "1  Ways of Seeing: Based on the BBC Television Se...           ABIS_BOOK   \n",
       "2  Gardner's Art through the Ages: A Global Histo...           ABIS_BOOK   \n",
       "3                                         Statistics           ABIS_BOOK   \n",
       "4  LEGO Creator Expert Carousel 10257 Building Ki...  TOY_BUILDING_BLOCK   \n",
       "\n",
       "    ASIN/ISBN  UNSPSC Code     Website         Release Date      Condition  \\\n",
       "0   486460185   55101500.0  Amazon.com  2007-12-10T00:00:01            new   \n",
       "1   140135154   55101500.0  Amazon.com  1990-12-01T00:00:01            new   \n",
       "2  1337696609   55101500.0  Amazon.com  2018-10-17T00:00:01  used verygood   \n",
       "3   134080211   55101500.0  Amazon.com  2016-01-03T00:00:01      used good   \n",
       "4  B071NT3DST   60140000.0  Amazon.com                  NaN            new   \n",
       "\n",
       "                   Seller  ...  Carrier Name & Tracking Number Item Subtotal  \\\n",
       "0              Amazon.com  ...         UPS(1Z445AY30312112350)        $9.76    \n",
       "1              Amazon.com  ...         UPS(1Z8110XY0321238300)        $6.67    \n",
       "2  Cengage Learning, Inc.  ...    USPS(9341989721009200872609)       $39.34    \n",
       "3              apex_media  ...         UPS(1Z09212X1354984212)       $29.70    \n",
       "4             脗mazin Sale  ...    USPS(9361289721009207637305)      $337.99    \n",
       "\n",
       "  Item Subtotal Tax  Item Total Tax Exemption Applied  Tax Exemption Type  \\\n",
       "0            $0.59        10.35                   NaN                 NaN   \n",
       "1            $0.40         7.07                   NaN                 NaN   \n",
       "2            $2.36        41.70                 False                 NaN   \n",
       "3            $1.78        31.48                 False                 NaN   \n",
       "4           $20.28       358.27                   NaN                 NaN   \n",
       "\n",
       "   Exemption Opt-Out   Buyer Name Currency Group Name  \n",
       "0                NaN  YANAN Zhang      USD        NaN  \n",
       "1                NaN  YANAN Zhang      USD        NaN  \n",
       "2              False  YANAN Zhang      USD        NaN  \n",
       "3              False  YANAN Zhang      USD        NaN  \n",
       "4                NaN  YANAN Zhang      USD        NaN  \n",
       "\n",
       "[5 rows x 36 columns]"
      ]
     },
     "execution_count": 5,
     "metadata": {},
     "output_type": "execute_result"
    }
   ],
   "source": [
    "df[\"Item Total\"]=df[\"Item Total\"].str.replace('$','').astype(float)\n",
    "df.head()"
   ]
  },
  {
   "cell_type": "code",
   "execution_count": 6,
   "metadata": {},
   "outputs": [
    {
     "data": {
      "text/plain": [
       "620.4000000000001"
      ]
     },
     "execution_count": 6,
     "metadata": {},
     "output_type": "execute_result"
    }
   ],
   "source": [
    "df[\"Item Total\"].sum()"
   ]
  },
  {
   "cell_type": "code",
   "execution_count": 7,
   "metadata": {},
   "outputs": [
    {
     "data": {
      "text/plain": [
       "47.72307692307693"
      ]
     },
     "execution_count": 7,
     "metadata": {},
     "output_type": "execute_result"
    }
   ],
   "source": [
    "df[\"Item Total\"].mean()"
   ]
  },
  {
   "cell_type": "code",
   "execution_count": 8,
   "metadata": {},
   "outputs": [
    {
     "data": {
      "text/plain": [
       "26.49"
      ]
     },
     "execution_count": 8,
     "metadata": {},
     "output_type": "execute_result"
    }
   ],
   "source": [
    "df[\"Item Total\"].median()"
   ]
  },
  {
   "cell_type": "code",
   "execution_count": 9,
   "metadata": {},
   "outputs": [
    {
     "data": {
      "text/plain": [
       "358.27"
      ]
     },
     "execution_count": 9,
     "metadata": {},
     "output_type": "execute_result"
    }
   ],
   "source": [
    "df[\"Item Total\"].max()"
   ]
  },
  {
   "cell_type": "code",
   "execution_count": 10,
   "metadata": {},
   "outputs": [
    {
     "data": {
      "text/plain": [
       "6.56"
      ]
     },
     "execution_count": 10,
     "metadata": {},
     "output_type": "execute_result"
    }
   ],
   "source": [
    "df[\"Item Total\"].min()"
   ]
  },
  {
   "cell_type": "code",
   "execution_count": 11,
   "metadata": {},
   "outputs": [
    {
     "data": {
      "text/html": [
       "<div>\n",
       "<style scoped>\n",
       "    .dataframe tbody tr th:only-of-type {\n",
       "        vertical-align: middle;\n",
       "    }\n",
       "\n",
       "    .dataframe tbody tr th {\n",
       "        vertical-align: top;\n",
       "    }\n",
       "\n",
       "    .dataframe thead th {\n",
       "        text-align: right;\n",
       "    }\n",
       "</style>\n",
       "<table border=\"1\" class=\"dataframe\">\n",
       "  <thead>\n",
       "    <tr style=\"text-align: right;\">\n",
       "      <th></th>\n",
       "      <th>Order Date</th>\n",
       "      <th>Order ID</th>\n",
       "      <th>Title</th>\n",
       "      <th>Category</th>\n",
       "      <th>ASIN/ISBN</th>\n",
       "      <th>UNSPSC Code</th>\n",
       "      <th>Website</th>\n",
       "      <th>Release Date</th>\n",
       "      <th>Condition</th>\n",
       "      <th>Seller</th>\n",
       "      <th>...</th>\n",
       "      <th>Carrier Name &amp; Tracking Number</th>\n",
       "      <th>Item Subtotal</th>\n",
       "      <th>Item Subtotal Tax</th>\n",
       "      <th>Item Total</th>\n",
       "      <th>Tax Exemption Applied</th>\n",
       "      <th>Tax Exemption Type</th>\n",
       "      <th>Exemption Opt-Out</th>\n",
       "      <th>Buyer Name</th>\n",
       "      <th>Currency</th>\n",
       "      <th>Group Name</th>\n",
       "    </tr>\n",
       "  </thead>\n",
       "  <tbody>\n",
       "    <tr>\n",
       "      <th>0</th>\n",
       "      <td>2020-01-13</td>\n",
       "      <td>113-9545573-8223416</td>\n",
       "      <td>Passionate Journey: A Vision in Woodcuts (Dove...</td>\n",
       "      <td>ABIS_BOOK</td>\n",
       "      <td>486460185</td>\n",
       "      <td>55101500.0</td>\n",
       "      <td>Amazon.com</td>\n",
       "      <td>2007-12-10T00:00:01</td>\n",
       "      <td>new</td>\n",
       "      <td>Amazon.com</td>\n",
       "      <td>...</td>\n",
       "      <td>UPS(1Z445AY30312112350)</td>\n",
       "      <td>$9.76</td>\n",
       "      <td>$0.59</td>\n",
       "      <td>10.35</td>\n",
       "      <td>NaN</td>\n",
       "      <td>NaN</td>\n",
       "      <td>NaN</td>\n",
       "      <td>YANAN Zhang</td>\n",
       "      <td>USD</td>\n",
       "      <td>NaN</td>\n",
       "    </tr>\n",
       "    <tr>\n",
       "      <th>1</th>\n",
       "      <td>2020-01-13</td>\n",
       "      <td>113-9545573-8223416</td>\n",
       "      <td>Ways of Seeing: Based on the BBC Television Se...</td>\n",
       "      <td>ABIS_BOOK</td>\n",
       "      <td>140135154</td>\n",
       "      <td>55101500.0</td>\n",
       "      <td>Amazon.com</td>\n",
       "      <td>1990-12-01T00:00:01</td>\n",
       "      <td>new</td>\n",
       "      <td>Amazon.com</td>\n",
       "      <td>...</td>\n",
       "      <td>UPS(1Z8110XY0321238300)</td>\n",
       "      <td>$6.67</td>\n",
       "      <td>$0.40</td>\n",
       "      <td>7.07</td>\n",
       "      <td>NaN</td>\n",
       "      <td>NaN</td>\n",
       "      <td>NaN</td>\n",
       "      <td>YANAN Zhang</td>\n",
       "      <td>USD</td>\n",
       "      <td>NaN</td>\n",
       "    </tr>\n",
       "    <tr>\n",
       "      <th>2</th>\n",
       "      <td>2020-01-13</td>\n",
       "      <td>113-8575398-2184263</td>\n",
       "      <td>Gardner's Art through the Ages: A Global Histo...</td>\n",
       "      <td>ABIS_BOOK</td>\n",
       "      <td>1337696609</td>\n",
       "      <td>55101500.0</td>\n",
       "      <td>Amazon.com</td>\n",
       "      <td>2018-10-17T00:00:01</td>\n",
       "      <td>used verygood</td>\n",
       "      <td>Cengage Learning, Inc.</td>\n",
       "      <td>...</td>\n",
       "      <td>USPS(9341989721009200872609)</td>\n",
       "      <td>$39.34</td>\n",
       "      <td>$2.36</td>\n",
       "      <td>41.70</td>\n",
       "      <td>False</td>\n",
       "      <td>NaN</td>\n",
       "      <td>False</td>\n",
       "      <td>YANAN Zhang</td>\n",
       "      <td>USD</td>\n",
       "      <td>NaN</td>\n",
       "    </tr>\n",
       "    <tr>\n",
       "      <th>3</th>\n",
       "      <td>2020-01-15</td>\n",
       "      <td>113-8013352-3793808</td>\n",
       "      <td>Statistics</td>\n",
       "      <td>ABIS_BOOK</td>\n",
       "      <td>134080211</td>\n",
       "      <td>55101500.0</td>\n",
       "      <td>Amazon.com</td>\n",
       "      <td>2016-01-03T00:00:01</td>\n",
       "      <td>used good</td>\n",
       "      <td>apex_media</td>\n",
       "      <td>...</td>\n",
       "      <td>UPS(1Z09212X1354984212)</td>\n",
       "      <td>$29.70</td>\n",
       "      <td>$1.78</td>\n",
       "      <td>31.48</td>\n",
       "      <td>False</td>\n",
       "      <td>NaN</td>\n",
       "      <td>False</td>\n",
       "      <td>YANAN Zhang</td>\n",
       "      <td>USD</td>\n",
       "      <td>NaN</td>\n",
       "    </tr>\n",
       "    <tr>\n",
       "      <th>4</th>\n",
       "      <td>2020-01-23</td>\n",
       "      <td>113-4949269-1336259</td>\n",
       "      <td>LEGO Creator Expert Carousel 10257 Building Ki...</td>\n",
       "      <td>TOY_BUILDING_BLOCK</td>\n",
       "      <td>B071NT3DST</td>\n",
       "      <td>60140000.0</td>\n",
       "      <td>Amazon.com</td>\n",
       "      <td>NaN</td>\n",
       "      <td>new</td>\n",
       "      <td>脗mazin Sale</td>\n",
       "      <td>...</td>\n",
       "      <td>USPS(9361289721009207637305)</td>\n",
       "      <td>$337.99</td>\n",
       "      <td>$20.28</td>\n",
       "      <td>358.27</td>\n",
       "      <td>NaN</td>\n",
       "      <td>NaN</td>\n",
       "      <td>NaN</td>\n",
       "      <td>YANAN Zhang</td>\n",
       "      <td>USD</td>\n",
       "      <td>NaN</td>\n",
       "    </tr>\n",
       "  </tbody>\n",
       "</table>\n",
       "<p>5 rows × 36 columns</p>\n",
       "</div>"
      ],
      "text/plain": [
       "  Order Date             Order ID  \\\n",
       "0 2020-01-13  113-9545573-8223416   \n",
       "1 2020-01-13  113-9545573-8223416   \n",
       "2 2020-01-13  113-8575398-2184263   \n",
       "3 2020-01-15  113-8013352-3793808   \n",
       "4 2020-01-23  113-4949269-1336259   \n",
       "\n",
       "                                               Title            Category  \\\n",
       "0  Passionate Journey: A Vision in Woodcuts (Dove...           ABIS_BOOK   \n",
       "1  Ways of Seeing: Based on the BBC Television Se...           ABIS_BOOK   \n",
       "2  Gardner's Art through the Ages: A Global Histo...           ABIS_BOOK   \n",
       "3                                         Statistics           ABIS_BOOK   \n",
       "4  LEGO Creator Expert Carousel 10257 Building Ki...  TOY_BUILDING_BLOCK   \n",
       "\n",
       "    ASIN/ISBN  UNSPSC Code     Website         Release Date      Condition  \\\n",
       "0   486460185   55101500.0  Amazon.com  2007-12-10T00:00:01            new   \n",
       "1   140135154   55101500.0  Amazon.com  1990-12-01T00:00:01            new   \n",
       "2  1337696609   55101500.0  Amazon.com  2018-10-17T00:00:01  used verygood   \n",
       "3   134080211   55101500.0  Amazon.com  2016-01-03T00:00:01      used good   \n",
       "4  B071NT3DST   60140000.0  Amazon.com                  NaN            new   \n",
       "\n",
       "                   Seller  ...  Carrier Name & Tracking Number Item Subtotal  \\\n",
       "0              Amazon.com  ...         UPS(1Z445AY30312112350)        $9.76    \n",
       "1              Amazon.com  ...         UPS(1Z8110XY0321238300)        $6.67    \n",
       "2  Cengage Learning, Inc.  ...    USPS(9341989721009200872609)       $39.34    \n",
       "3              apex_media  ...         UPS(1Z09212X1354984212)       $29.70    \n",
       "4             脗mazin Sale  ...    USPS(9361289721009207637305)      $337.99    \n",
       "\n",
       "  Item Subtotal Tax  Item Total Tax Exemption Applied  Tax Exemption Type  \\\n",
       "0            $0.59        10.35                   NaN                 NaN   \n",
       "1            $0.40         7.07                   NaN                 NaN   \n",
       "2            $2.36        41.70                 False                 NaN   \n",
       "3            $1.78        31.48                 False                 NaN   \n",
       "4           $20.28       358.27                   NaN                 NaN   \n",
       "\n",
       "   Exemption Opt-Out   Buyer Name Currency Group Name  \n",
       "0                NaN  YANAN Zhang      USD        NaN  \n",
       "1                NaN  YANAN Zhang      USD        NaN  \n",
       "2              False  YANAN Zhang      USD        NaN  \n",
       "3              False  YANAN Zhang      USD        NaN  \n",
       "4                NaN  YANAN Zhang      USD        NaN  \n",
       "\n",
       "[5 rows x 36 columns]"
      ]
     },
     "execution_count": 11,
     "metadata": {},
     "output_type": "execute_result"
    }
   ],
   "source": [
    "df['Order Date']=pd.to_datetime(df['Order Date'])\n",
    "df.head()"
   ]
  },
  {
   "cell_type": "code",
   "execution_count": 12,
   "metadata": {},
   "outputs": [],
   "source": [
    "%matplotlib inline"
   ]
  },
  {
   "cell_type": "code",
   "execution_count": 13,
   "metadata": {},
   "outputs": [
    {
     "data": {
      "text/plain": [
       "<AxesSubplot:xlabel='Order Date'>"
      ]
     },
     "execution_count": 13,
     "metadata": {},
     "output_type": "execute_result"
    },
    {
     "data": {
      "image/png": "[encoded data removed]",
      "text/plain": [
       "<Figure size 432x288 with 1 Axes>"
      ]
     },
     "metadata": {
      "needs_background": "light"
     },
     "output_type": "display_data"
    }
   ],
   "source": [
    "df.plot.bar(x='Order Date',y='Item Total', rot=90)"
   ]
  },
  {
   "cell_type": "code",
   "execution_count": 15,
   "metadata": {},
   "outputs": [
    {
     "data": {
      "text/plain": [
       "<AxesSubplot:xlabel='Order Date'>"
      ]
     },
     "execution_count": 15,
     "metadata": {},
     "output_type": "execute_result"
    },
    {
     "data": {
      "image/png": "[encoded data removed]",
      "text/plain": [
       "<Figure size 720x720 with 1 Axes>"
      ]
     },
     "metadata": {
      "needs_background": "light"
     },
     "output_type": "display_data"
    }
   ],
   "source": [
    "df.plot.bar(x='Order Date',y='Item Total',rot=90, figsize=(10,10))"
   ]
  },
  {
   "cell_type": "code",
   "execution_count": 16,
   "metadata": {},
   "outputs": [
    {
     "data": {
      "text/html": [
       "<div>\n",
       "<style scoped>\n",
       "    .dataframe tbody tr th:only-of-type {\n",
       "        vertical-align: middle;\n",
       "    }\n",
       "\n",
       "    .dataframe tbody tr th {\n",
       "        vertical-align: top;\n",
       "    }\n",
       "\n",
       "    .dataframe thead th {\n",
       "        text-align: right;\n",
       "    }\n",
       "</style>\n",
       "<table border=\"1\" class=\"dataframe\">\n",
       "  <thead>\n",
       "    <tr style=\"text-align: right;\">\n",
       "      <th></th>\n",
       "      <th>Order Date</th>\n",
       "      <th>Item Total</th>\n",
       "      <th>Item Subtotal Tax</th>\n",
       "      <th>Item Subtotal</th>\n",
       "    </tr>\n",
       "  </thead>\n",
       "  <tbody>\n",
       "    <tr>\n",
       "      <th>0</th>\n",
       "      <td>2020-01-13</td>\n",
       "      <td>10.35</td>\n",
       "      <td>$0.59</td>\n",
       "      <td>$9.76</td>\n",
       "    </tr>\n",
       "    <tr>\n",
       "      <th>1</th>\n",
       "      <td>2020-01-13</td>\n",
       "      <td>7.07</td>\n",
       "      <td>$0.40</td>\n",
       "      <td>$6.67</td>\n",
       "    </tr>\n",
       "    <tr>\n",
       "      <th>2</th>\n",
       "      <td>2020-01-13</td>\n",
       "      <td>41.70</td>\n",
       "      <td>$2.36</td>\n",
       "      <td>$39.34</td>\n",
       "    </tr>\n",
       "    <tr>\n",
       "      <th>3</th>\n",
       "      <td>2020-01-15</td>\n",
       "      <td>31.48</td>\n",
       "      <td>$1.78</td>\n",
       "      <td>$29.70</td>\n",
       "    </tr>\n",
       "    <tr>\n",
       "      <th>4</th>\n",
       "      <td>2020-01-23</td>\n",
       "      <td>358.27</td>\n",
       "      <td>$20.28</td>\n",
       "      <td>$337.99</td>\n",
       "    </tr>\n",
       "    <tr>\n",
       "      <th>5</th>\n",
       "      <td>2020-01-23</td>\n",
       "      <td>30.31</td>\n",
       "      <td>$1.72</td>\n",
       "      <td>$28.59</td>\n",
       "    </tr>\n",
       "    <tr>\n",
       "      <th>6</th>\n",
       "      <td>2020-01-25</td>\n",
       "      <td>31.76</td>\n",
       "      <td>$1.80</td>\n",
       "      <td>$29.96</td>\n",
       "    </tr>\n",
       "    <tr>\n",
       "      <th>7</th>\n",
       "      <td>2020-01-25</td>\n",
       "      <td>6.56</td>\n",
       "      <td>$0.37</td>\n",
       "      <td>$6.19</td>\n",
       "    </tr>\n",
       "    <tr>\n",
       "      <th>8</th>\n",
       "      <td>2020-02-22</td>\n",
       "      <td>14.72</td>\n",
       "      <td>$0.83</td>\n",
       "      <td>$13.89</td>\n",
       "    </tr>\n",
       "    <tr>\n",
       "      <th>9</th>\n",
       "      <td>2003-01-20</td>\n",
       "      <td>26.49</td>\n",
       "      <td>$1.50</td>\n",
       "      <td>$24.99</td>\n",
       "    </tr>\n",
       "    <tr>\n",
       "      <th>10</th>\n",
       "      <td>2003-01-20</td>\n",
       "      <td>31.79</td>\n",
       "      <td>$1.80</td>\n",
       "      <td>$29.99</td>\n",
       "    </tr>\n",
       "    <tr>\n",
       "      <th>11</th>\n",
       "      <td>2003-10-20</td>\n",
       "      <td>16.95</td>\n",
       "      <td>$0.96</td>\n",
       "      <td>$15.99</td>\n",
       "    </tr>\n",
       "    <tr>\n",
       "      <th>12</th>\n",
       "      <td>2003-10-20</td>\n",
       "      <td>12.95</td>\n",
       "      <td>$0.00</td>\n",
       "      <td>$12.95</td>\n",
       "    </tr>\n",
       "  </tbody>\n",
       "</table>\n",
       "</div>"
      ],
      "text/plain": [
       "   Order Date  Item Total Item Subtotal Tax Item Subtotal\n",
       "0  2020-01-13       10.35            $0.59         $9.76 \n",
       "1  2020-01-13        7.07            $0.40         $6.67 \n",
       "2  2020-01-13       41.70            $2.36        $39.34 \n",
       "3  2020-01-15       31.48            $1.78        $29.70 \n",
       "4  2020-01-23      358.27           $20.28       $337.99 \n",
       "5  2020-01-23       30.31            $1.72        $28.59 \n",
       "6  2020-01-25       31.76            $1.80        $29.96 \n",
       "7  2020-01-25        6.56            $0.37         $6.19 \n",
       "8  2020-02-22       14.72            $0.83        $13.89 \n",
       "9  2003-01-20       26.49            $1.50        $24.99 \n",
       "10 2003-01-20       31.79            $1.80        $29.99 \n",
       "11 2003-10-20       16.95            $0.96        $15.99 \n",
       "12 2003-10-20       12.95            $0.00        $12.95 "
      ]
     },
     "execution_count": 16,
     "metadata": {},
     "output_type": "execute_result"
    }
   ],
   "source": [
    "df.loc[:,[\"Order Date\",\"Item Total\",\"Item Subtotal Tax\",\"Item Subtotal\"]]"
   ]
  },
  {
   "cell_type": "code",
   "execution_count": 17,
   "metadata": {},
   "outputs": [
    {
     "data": {
      "text/plain": [
       "Order Date\n",
       "2003-01-20     58.28\n",
       "2003-10-20     29.90\n",
       "2020-01-13     59.12\n",
       "2020-01-15     31.48\n",
       "2020-01-23    388.58\n",
       "Name: Item Total, dtype: float64"
      ]
     },
     "execution_count": 17,
     "metadata": {},
     "output_type": "execute_result"
    }
   ],
   "source": [
    "daily_orders=df.groupby('Order Date').sum()[\"Item Total\"]\n",
    "daily_orders.head()"
   ]
  },
  {
   "cell_type": "code",
   "execution_count": 18,
   "metadata": {},
   "outputs": [
    {
     "data": {
      "text/plain": [
       "<AxesSubplot:xlabel='Order Date'>"
      ]
     },
     "execution_count": 18,
     "metadata": {},
     "output_type": "execute_result"
    },
    {
     "data": {
      "image/png": "[encoded data removed]",
      "text/plain": [
       "<Figure size 720x720 with 1 Axes>"
      ]
     },
     "metadata": {
      "needs_background": "light"
     },
     "output_type": "display_data"
    }
   ],
   "source": [
    "daily_orders.plot.bar(figsize=(10,10))"
   ]
  }
 ],
 "metadata": {
  "kernelspec": {
   "display_name": "Python 3",
   "language": "python",
   "name": "python3"
  },
  "language_info": {
   "codemirror_mode": {
    "name": "ipython",
    "version": 3
   },
   "file_extension": ".py",
   "mimetype": "text/x-python",
   "name": "python",
   "nbconvert_exporter": "python",
   "pygments_lexer": "ipython3",
   "version": "3.8.5"
  }
 },
 "nbformat": 4,
 "nbformat_minor": 4
}
