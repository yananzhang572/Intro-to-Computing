{
 "cells": [
  {
   "cell_type": "code",
   "execution_count": 1,
   "metadata": {},
   "outputs": [
    {
     "name": "stdout",
     "output_type": "stream",
     "text": [
      "<class 'list'>\n",
      "['black', 'white', 'pink', 'purple', 'blue']\n"
     ]
    }
   ],
   "source": [
    "colors=[\"black\",\"white\",\"pink\",\"purple\",\"blue\"]\n",
    "print(type(colors))\n",
    "print(colors)"
   ]
  },
  {
   "cell_type": "code",
   "execution_count": 2,
   "metadata": {},
   "outputs": [
    {
     "name": "stdout",
     "output_type": "stream",
     "text": [
      "[30, 33, 36, 39, 42, 45, 48, 51, 54, 57]\n"
     ]
    }
   ],
   "source": [
    "nums=list(range(30,60,3))\n",
    "print(nums)"
   ]
  },
  {
   "cell_type": "code",
   "execution_count": 6,
   "metadata": {},
   "outputs": [
    {
     "name": "stdout",
     "output_type": "stream",
     "text": [
      "{'Sunny': 'Play', 'Rainy': 'Watching TV', 'Cloudy': 'Walk'}\n"
     ]
    }
   ],
   "source": [
    "Weather={\n",
    "    \"Sunny\":\"Play\",\n",
    "    \"Rainy\":\"Watching TV\",\n",
    "    \"Cloudy\":\"Walk\"\n",
    "}\n",
    "print(Weather)"
   ]
  },
  {
   "cell_type": "code",
   "execution_count": 7,
   "metadata": {},
   "outputs": [
    {
     "name": "stdout",
     "output_type": "stream",
     "text": [
      "{'Sunny': 'Play', 'Rainy': 'Watching TV', 'Cloudy': 'Walk', 'Snowy': 'Ski'}\n"
     ]
    }
   ],
   "source": [
    "Weather.update({\"Snowy\":\"Ski\"})\n",
    "print(Weather)"
   ]
  },
  {
   "cell_type": "code",
   "execution_count": 8,
   "metadata": {},
   "outputs": [
    {
     "name": "stdout",
     "output_type": "stream",
     "text": [
      "F\n"
     ]
    }
   ],
   "source": [
    "grade=65\n",
    "if grade >=90:\n",
    "    print('A')\n",
    "elif grade >=80:\n",
    "    print('B')\n",
    "elif grade >=70:\n",
    "    print('C')\n",
    "else:\n",
    "    print('F')"
   ]
  },
  {
   "cell_type": "code",
   "execution_count": null,
   "metadata": {},
   "outputs": [],
   "source": []
  }
 ],
 "metadata": {
  "kernelspec": {
   "display_name": "Python 3",
   "language": "python",
   "name": "python3"
  },
  "language_info": {
   "codemirror_mode": {
    "name": "ipython",
    "version": 3
   },
   "file_extension": ".py",
   "mimetype": "text/x-python",
   "name": "python",
   "nbconvert_exporter": "python",
   "pygments_lexer": "ipython3",
   "version": "3.8.5"
  }
 },
 "nbformat": 4,
 "nbformat_minor": 4
}
