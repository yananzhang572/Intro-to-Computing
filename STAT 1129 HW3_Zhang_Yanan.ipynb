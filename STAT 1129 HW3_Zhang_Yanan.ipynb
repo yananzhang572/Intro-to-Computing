{
 "cells": [
  {
   "cell_type": "code",
   "execution_count": 35,
   "metadata": {},
   "outputs": [],
   "source": [
    "#0. Define a dictionary,composed with students name and their grade.\n",
    "Marks = {\n",
    "    'Andy':88,\n",
    "    'Amy':66,\n",
    "    'James':90,\n",
    "    'Jules':55,\n",
    "    'Arthur':77}"
   ]
  },
  {
   "cell_type": "code",
   "execution_count": 36,
   "metadata": {},
   "outputs": [
    {
     "data": {
      "text/plain": [
       "{'Andy': 88, 'Amy': 66, 'James': 90, 'Jules': 55, 'Arthur': 77}"
      ]
     },
     "execution_count": 36,
     "metadata": {},
     "output_type": "execute_result"
    }
   ],
   "source": [
    "Marks"
   ]
  },
  {
   "cell_type": "code",
   "execution_count": 37,
   "metadata": {},
   "outputs": [
    {
     "name": "stdout",
     "output_type": "stream",
     "text": [
      "Andy 88\n",
      "Amy 66\n",
      "James 90\n",
      "Jules 55\n",
      "Arthur 77\n"
     ]
    }
   ],
   "source": [
    "#1. Using for loop,print out all the students name and their grade\n",
    "d = {'Andy':88,'Amy':66,'James':90,'Jules':55,'Arthur':77}\n",
    "for names in d:\n",
    "    print(names,d[names])"
   ]
  },
  {
   "cell_type": "code",
   "execution_count": 49,
   "metadata": {},
   "outputs": [
    {
     "data": {
      "text/plain": [
       "75.2"
      ]
     },
     "execution_count": 49,
     "metadata": {},
     "output_type": "execute_result"
    }
   ],
   "source": [
    "#2. Of this dictionary, calculate all student's mean grade,maximal grade, and minimal grade.\n",
    "def mean_grade(Marks):\n",
    "    Marks={'Andy':88,'Amy':66,'James':90,'Jules':55,'Arthur':77}\n",
    "    L=len(Marks)\n",
    "    S=sum(Marks.values())\n",
    "    mean=S/L\n",
    "    return mean\n",
    "mean_grade(Marks)"
   ]
  },
  {
   "cell_type": "code",
   "execution_count": 46,
   "metadata": {},
   "outputs": [
    {
     "data": {
      "text/plain": [
       "90"
      ]
     },
     "execution_count": 46,
     "metadata": {},
     "output_type": "execute_result"
    }
   ],
   "source": [
    "max(Marks.values())"
   ]
  },
  {
   "cell_type": "code",
   "execution_count": 48,
   "metadata": {},
   "outputs": [
    {
     "data": {
      "text/plain": [
       "55"
      ]
     },
     "execution_count": 48,
     "metadata": {},
     "output_type": "execute_result"
    }
   ],
   "source": [
    "min(Marks.values())"
   ]
  },
  {
   "cell_type": "code",
   "execution_count": 2,
   "metadata": {},
   "outputs": [
    {
     "name": "stdout",
     "output_type": "stream",
     "text": [
      "Andy\n",
      "Amy\n"
     ]
    }
   ],
   "source": [
    "#3. Using for loop or while loop, for all the keys in the dictionary, print out key.However, if \"j\" appears, stop the loop.\n",
    "for names in {'Andy':88,'Amy':66,'James':90, 'Jules':55,'Arthur':77}: \n",
    "    if 'J'in names:\n",
    "         break\n",
    "    print(names)"
   ]
  },
  {
   "cell_type": "code",
   "execution_count": 3,
   "metadata": {},
   "outputs": [
    {
     "name": "stdout",
     "output_type": "stream",
     "text": [
      "Andy\n",
      "Amy\n",
      "Arthur\n"
     ]
    }
   ],
   "source": [
    "#4. Using for loop or while loop, for all the keys in the dictionary, print out key. However, if 'j' appears, skip this key, and continue the loop.\n",
    "for names in {'Andy':88,'Amy':66,'James':90, 'Jules':55,'Arthur':77}:\n",
    "    if 'J'in names:\n",
    "        continue\n",
    "    print(names)"
   ]
  },
  {
   "cell_type": "code",
   "execution_count": 7,
   "metadata": {},
   "outputs": [
    {
     "data": {
      "text/plain": [
       "66"
      ]
     },
     "execution_count": 7,
     "metadata": {},
     "output_type": "execute_result"
    }
   ],
   "source": [
    "#5. Define a function\n",
    "def print_student (student_name):\n",
    "    marks={'Andy':88,'Amy':66,'James':90,'Jules':55,'Arthur':77}\n",
    "    for student in marks:\n",
    "        if student== student_name:\n",
    "            return marks[student]\n",
    "            break\n",
    "    else:\n",
    "        print('No entry with that name found.')\n",
    "    \n",
    "print_student(\"Amy\")"
   ]
  },
  {
   "cell_type": "code",
   "execution_count": 8,
   "metadata": {},
   "outputs": [
    {
     "name": "stdout",
     "output_type": "stream",
     "text": [
      "No entry with that name found.\n"
     ]
    }
   ],
   "source": [
    "#5. Define a function\n",
    "def print_student (student_name):\n",
    "    marks={'Andy':88,'Amy':66,'James':90,'Jules':55,'Arthur':77}\n",
    "    for student in marks:\n",
    "        if student== student_name:\n",
    "            return marks[student]\n",
    "            break\n",
    "    else:\n",
    "        print('No entry with that name found.')\n",
    "    \n",
    "print_student(\"Abby\")"
   ]
  },
  {
   "cell_type": "code",
   "execution_count": null,
   "metadata": {},
   "outputs": [],
   "source": []
  }
 ],
 "metadata": {
  "kernelspec": {
   "display_name": "Python 3",
   "language": "python",
   "name": "python3"
  },
  "language_info": {
   "codemirror_mode": {
    "name": "ipython",
    "version": 3
   },
   "file_extension": ".py",
   "mimetype": "text/x-python",
   "name": "python",
   "nbconvert_exporter": "python",
   "pygments_lexer": "ipython3",
   "version": "3.8.5"
  }
 },
 "nbformat": 4,
 "nbformat_minor": 4
}
